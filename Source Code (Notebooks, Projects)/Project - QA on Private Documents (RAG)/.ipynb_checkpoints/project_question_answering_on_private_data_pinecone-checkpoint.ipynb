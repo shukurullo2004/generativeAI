{
 "cells": [
  {
   "cell_type": "markdown",
   "id": "640e4bbc",
   "metadata": {},
   "source": [
    "# Project: Question-Answering on Private Documents using LangChain, OpenAI and Pinecone\n",
    "\n",
    "\n",
    "This notebook uses **the latest versions** of the OpenAI and LangChain libraries."
   ]
  },
  {
   "cell_type": "code",
   "execution_count": 137,
   "id": "18527c4f",
   "metadata": {},
   "outputs": [
    {
     "name": "stdout",
     "output_type": "stream",
     "text": [
      "Note: you may need to restart the kernel to use updated packages.\n"
     ]
    }
   ],
   "source": [
    "pip install -q -r ./requirements.txt"
   ]
  },
  {
   "cell_type": "code",
   "execution_count": 138,
   "id": "b748fd20",
   "metadata": {},
   "outputs": [
    {
     "data": {
      "text/plain": [
       "True"
      ]
     },
     "execution_count": 138,
     "metadata": {},
     "output_type": "execute_result"
    }
   ],
   "source": [
    "import os\n",
    "from dotenv import load_dotenv, find_dotenv\n",
    "load_dotenv(find_dotenv(), override=True)"
   ]
  },
  {
   "cell_type": "markdown",
   "id": "07900179",
   "metadata": {},
   "source": [
    "### Loading Documents"
   ]
  },
  {
   "cell_type": "code",
   "execution_count": 6,
   "id": "e1ae19b5",
   "metadata": {},
   "outputs": [],
   "source": [
    "# loading PDF, DOCX and TXT files as LangChain Documents\n",
    "def load_document(file):\n",
    "    import os\n",
    "    name, extension = os.path.splitext(file)\n",
    "\n",
    "    if extension == '.pdf':\n",
    "        from langchain.document_loaders import PyPDFLoader\n",
    "        print(f'Loading {file}')\n",
    "        loader = PyPDFLoader(file)\n",
    "    elif extension == '.docx':\n",
    "        from langchain.document_loaders import Docx2txtLoader\n",
    "        print(f'Loading {file}')\n",
    "        loader = Docx2txtLoader(file)\n",
    "    elif extension == '.txt':\n",
    "        from langchain.document_loaders import TextLoader\n",
    "        loader = TextLoader(file)\n",
    "    else:\n",
    "        print('Document format is not supported!')\n",
    "        return None\n",
    "\n",
    "    data = loader.load()\n",
    "    return data\n",
    "  "
   ]
  },
  {
   "cell_type": "code",
   "execution_count": 7,
   "id": "38eb372c",
   "metadata": {},
   "outputs": [],
   "source": [
    "# wikipedia\n",
    "def load_from_wikipedia(query, lang='en', load_max_docs=2):\n",
    "    from langchain.document_loaders import WikipediaLoader\n",
    "    loader = WikipediaLoader(query=query, lang=lang, load_max_docs=load_max_docs)\n",
    "    data = loader.load()\n",
    "    return data\n"
   ]
  },
  {
   "cell_type": "markdown",
   "id": "367bb8ad",
   "metadata": {},
   "source": [
    "### Chunking Data"
   ]
  },
  {
   "cell_type": "code",
   "execution_count": 8,
   "id": "62c3cb39",
   "metadata": {},
   "outputs": [],
   "source": [
    "def chunk_data(data, chunk_size=256):\n",
    "    from langchain.text_splitter import RecursiveCharacterTextSplitter\n",
    "    text_splitter = RecursiveCharacterTextSplitter(chunk_size=chunk_size, chunk_overlap=0)\n",
    "    chunks = text_splitter.split_documents(data)\n",
    "    return chunks\n",
    "    "
   ]
  },
  {
   "cell_type": "markdown",
   "id": "2b298177",
   "metadata": {},
   "source": [
    "### Calculating Cost"
   ]
  },
  {
   "cell_type": "code",
   "execution_count": 9,
   "id": "add191c6",
   "metadata": {},
   "outputs": [],
   "source": [
    "def print_embedding_cost(texts):\n",
    "    import tiktoken\n",
    "    enc = tiktoken.encoding_for_model('text-embedding-3-small')\n",
    "    total_tokens = sum([len(enc.encode(page.page_content)) for page in texts])\n",
    "    # check prices here: https://openai.com/pricing\n",
    "    print(f'Total Tokens: {total_tokens}')\n",
    "    print(f'Embedding Cost in USD: {total_tokens / 1000 * 0.00002:.6f}')"
   ]
  },
  {
   "cell_type": "markdown",
   "id": "27f92afa",
   "metadata": {},
   "source": [
    "### Embedding and Uploading to a Vector Database (Pinecone)"
   ]
  },
  {
   "cell_type": "code",
   "execution_count": 94,
   "id": "0c72c3cf",
   "metadata": {},
   "outputs": [],
   "source": [
    "def insert_or_fetch_embeddings(index_name, chunks):\n",
    "    # importing the necessary libraries and initializing the Pinecone client\n",
    "    import pinecone\n",
    "    from langchain_community.vectorstores import Pinecone\n",
    "    from langchain_openai import OpenAIEmbeddings\n",
    "    from pinecone import PodSpec\n",
    "\n",
    "    \n",
    "    pc = pinecone.Pinecone()\n",
    "        \n",
    "    embeddings = OpenAIEmbeddings(model='text-embedding-3-small', dimensions=1536)  # 512 works as well\n",
    "\n",
    "    # loading from existing index\n",
    "    if index_name in pc.list_indexes():\n",
    "        print(f'Index {index_name} already exists. Loading embeddings ... ', end='')\n",
    "        vector_store = Pinecone.from_existing_index(index_name, embeddings)\n",
    "        print('Ok')\n",
    "    else:\n",
    "        # creating the index and embedding the chunks into the index \n",
    "        print(f'Creating index {index_name} and embeddings ...', end='')\n",
    "\n",
    "        # creating a new index\n",
    "        pc.create_index(\n",
    "            name=index_name,\n",
    "            dimension=1536,\n",
    "            metric='cosine',\n",
    "            spec=PodSpec(\n",
    "                environment='gcp-starter'\n",
    "            )\n",
    "        )\n",
    "\n",
    "        # processing the input documents, generating embeddings using the provided `OpenAIEmbeddings` instance,\n",
    "        # inserting the embeddings into the index and returning a new Pinecone vector store object. \n",
    "        vector_store = Pinecone.from_documents(chunks, embeddings, index_name=index_name)\n",
    "        print('Ok')\n",
    "        \n",
    "    return vector_store\n",
    "    "
   ]
  },
  {
   "cell_type": "code",
   "execution_count": 30,
   "id": "52ef1091",
   "metadata": {},
   "outputs": [],
   "source": [
    "def delete_pinecone_index(index_name='all'):\n",
    "    import pinecone\n",
    "    pc = pinecone.Pinecone()\n",
    "    \n",
    "    if index_name == 'all':\n",
    "        indexes = pc.list_indexes().names()\n",
    "        print('Deleting all indexes ... ')\n",
    "        for index in indexes:\n",
    "            pc.delete_index(index)\n",
    "        print('Ok')\n",
    "    else:\n",
    "        print(f'Deleting index {index_name} ...', end='')\n",
    "        pc.delete_index(index_name)\n",
    "        print('Ok')\n",
    "    "
   ]
  },
  {
   "cell_type": "markdown",
   "id": "462a94cb",
   "metadata": {},
   "source": [
    "### Asking and Getting Answers"
   ]
  },
  {
   "cell_type": "code",
   "execution_count": 139,
   "id": "08b0a508",
   "metadata": {},
   "outputs": [],
   "source": [
    "def ask_and_get_answer(vector_store, q, k=3):\n",
    "    from langchain.chains import RetrievalQA\n",
    "    from langchain_openai import ChatOpenAI\n",
    "\n",
    "    llm = ChatOpenAI(model='gpt-3.5-turbo', temperature=1)\n",
    "\n",
    "    retriever = vector_store.as_retriever(search_type='similarity', search_kwargs={'k': k})\n",
    "\n",
    "    chain = RetrievalQA.from_chain_type(llm=llm, chain_type=\"stuff\", retriever=retriever)\n",
    "    \n",
    "    answer = chain.invoke(q)\n",
    "    return answer\n",
    "    \n",
    "    \n",
    "def ask_with_memory(vector_store, question, chat_history=[], k=3):\n",
    "    from langchain.chains import ConversationalRetrievalChain\n",
    "    from langchain_openai import ChatOpenAI\n",
    "    \n",
    "    llm = ChatOpenAI(temperature=1)\n",
    "    retriever = vector_store.as_retriever(search_type='similarity', search_kwargs={'k': k})\n",
    "    \n",
    "    crc = ConversationalRetrievalChain.from_llm(llm, retriever)\n",
    "    result = crc.invoke({'question': question, 'chat_history': chat_history})\n",
    "    chat_history.append((question, result['answer']))\n",
    "    \n",
    "    return result, chat_history\n",
    "    "
   ]
  },
  {
   "cell_type": "markdown",
   "id": "c1efe8fc",
   "metadata": {},
   "source": [
    "### Running Code"
   ]
  },
  {
   "cell_type": "code",
   "execution_count": 13,
   "id": "0da518dc",
   "metadata": {},
   "outputs": [],
   "source": [
    "# import warnings\n",
    "# warnings.filterwarnings('ignore')"
   ]
  },
  {
   "cell_type": "markdown",
   "id": "8ad0e41f-d82b-462d-8d51-f5cc83d836c5",
   "metadata": {},
   "source": [
    "#### Ask a PDF"
   ]
  },
  {
   "cell_type": "code",
   "execution_count": 127,
   "id": "23fd7147",
   "metadata": {},
   "outputs": [
    {
     "name": "stdout",
     "output_type": "stream",
     "text": [
      "Loading files/us_constitution.pdf\n",
      "You have 41 pages in your data\n",
      "There are 1137 characters in the page\n"
     ]
    }
   ],
   "source": [
    "data = load_document('files/us_constitution.pdf')\n",
    "# print(data[1].page_content)\n",
    "# print(data[10].metadata)\n",
    "\n",
    "print(f'You have {len(data)} pages in your data')\n",
    "print(f'There are {len(data[20].page_content)} characters in the page')"
   ]
  },
  {
   "cell_type": "code",
   "execution_count": 59,
   "id": "d11b7652",
   "metadata": {},
   "outputs": [],
   "source": [
    "# data = load_document('files/the_great_gatsby.docx')\n",
    "# print(data[0].page_content)"
   ]
  },
  {
   "cell_type": "code",
   "execution_count": 60,
   "id": "6054462e",
   "metadata": {},
   "outputs": [],
   "source": [
    "# data = load_from_wikipedia('GPT-4', 'de')\n",
    "# print(data[0].page_content)"
   ]
  },
  {
   "cell_type": "code",
   "execution_count": 128,
   "id": "64b5d7f5",
   "metadata": {},
   "outputs": [
    {
     "name": "stdout",
     "output_type": "stream",
     "text": [
      "190\n"
     ]
    }
   ],
   "source": [
    "chunks = chunk_data(data)\n",
    "print(len(chunks))\n",
    "# print(chunks[10].page_content)"
   ]
  },
  {
   "cell_type": "code",
   "execution_count": 28,
   "id": "faa75175",
   "metadata": {},
   "outputs": [
    {
     "name": "stdout",
     "output_type": "stream",
     "text": [
      "Total Tokens: 16711\n",
      "Embedding Cost in USD: 0.006684\n"
     ]
    }
   ],
   "source": [
    "print_embedding_cost(chunks)"
   ]
  },
  {
   "cell_type": "code",
   "execution_count": 129,
   "id": "8f4f798d",
   "metadata": {},
   "outputs": [
    {
     "name": "stdout",
     "output_type": "stream",
     "text": [
      "Deleting all indexes ... \n",
      "Ok\n"
     ]
    }
   ],
   "source": [
    "delete_pinecone_index()"
   ]
  },
  {
   "cell_type": "code",
   "execution_count": 130,
   "id": "8525a620",
   "metadata": {},
   "outputs": [
    {
     "name": "stdout",
     "output_type": "stream",
     "text": [
      "Creating index askadocument and embeddings ...Ok\n"
     ]
    }
   ],
   "source": [
    "index_name = 'askadocument'\n",
    "vector_store = insert_or_fetch_embeddings(index_name=index_name, chunks=chunks)"
   ]
  },
  {
   "cell_type": "code",
   "execution_count": 100,
   "id": "6b158ff1",
   "metadata": {},
   "outputs": [
    {
     "name": "stdout",
     "output_type": "stream",
     "text": [
      "{'query': 'What is the whole document about?', 'result': 'The document is about the United States Constitution, which establishes the structure and powers of the government in the United States. It outlines the purpose of forming a more perfect union, ensuring justice, domestic tranquility, common defense, promoting general welfare, and securing the blessings of liberty for both the people and future generations. The specific section mentioned, Article I, Section 1, establishes that all legislative powers are vested in the Congress of the United States.'}\n"
     ]
    }
   ],
   "source": [
    "q = 'What is the whole document about?'\n",
    "answer = ask_and_get_answer(vector_store, q)\n",
    "print(answer)"
   ]
  },
  {
   "cell_type": "code",
   "execution_count": 101,
   "id": "00ddb48f",
   "metadata": {},
   "outputs": [
    {
     "name": "stdout",
     "output_type": "stream",
     "text": [
      "Write Quit or Exit to quit.\n"
     ]
    },
    {
     "name": "stdin",
     "output_type": "stream",
     "text": [
      "Question #1:  What are the Bill of Rights?\n"
     ]
    },
    {
     "name": "stdout",
     "output_type": "stream",
     "text": [
      "\n",
      "Answer: {'query': 'What are the Bill of Rights?', 'result': 'The Bill of Rights refers to the first ten amendments to the United States Constitution. These amendments outline the fundamental rights and freedoms of individuals, including freedom of speech, religion, and the right to bear arms. They also protect against arbitrary government actions, such as unreasonable searches and seizures, and ensure due process and the right to a fair trial.'}\n",
      "\n",
      " -------------------------------------------------- \n",
      "\n"
     ]
    },
    {
     "name": "stdin",
     "output_type": "stream",
     "text": [
      "Question #2:  quit\n"
     ]
    },
    {
     "name": "stdout",
     "output_type": "stream",
     "text": [
      "Quitting ... bye bye!\n"
     ]
    }
   ],
   "source": [
    "import time\n",
    "i = 1\n",
    "print('Write Quit or Exit to quit.')\n",
    "while True:\n",
    "    q = input(f'Question #{i}: ')\n",
    "    i = i + 1\n",
    "    if q.lower() in ['quit', 'exit']:\n",
    "        print('Quitting ... bye bye!')\n",
    "        time.sleep(2)\n",
    "        break\n",
    "    \n",
    "    answer = ask_and_get_answer(vector_store, q)\n",
    "    print(f'\\nAnswer: {answer}')\n",
    "    print(f'\\n {\"-\" * 50} \\n')\n",
    "\n",
    "    "
   ]
  },
  {
   "cell_type": "markdown",
   "id": "5c030ca0-ba14-46eb-882a-3d157df48acb",
   "metadata": {},
   "source": [
    "#### Ask Wikipedia"
   ]
  },
  {
   "cell_type": "code",
   "execution_count": 124,
   "id": "775915c4",
   "metadata": {},
   "outputs": [
    {
     "name": "stdout",
     "output_type": "stream",
     "text": [
      "Deleting all indexes ... \n",
      "Ok\n"
     ]
    }
   ],
   "source": [
    "delete_pinecone_index()"
   ]
  },
  {
   "cell_type": "code",
   "execution_count": 113,
   "id": "98ad69bb",
   "metadata": {},
   "outputs": [],
   "source": [
    "data = load_from_wikipedia('Google Gemini', 'de')\n",
    "chunks = chunk_data(data)"
   ]
  },
  {
   "cell_type": "code",
   "execution_count": 114,
   "id": "dcdf2228-26f3-46a5-93d9-cdc1153280fc",
   "metadata": {},
   "outputs": [
    {
     "data": {
      "text/plain": [
       "[Document(page_content='Google Gemini (ehemals Google Bard) ist ein von Google entwickelter KI-basierter, multimodaler Chatbot. Er wurde als direkte Reaktion auf den Erfolg von OpenAIs ChatGPT entwickelt und im März 2023 in eingeschränkter Kapazität veröffentlicht, bevor er im', metadata={'title': 'Google Gemini', 'summary': 'Google Gemini (ehemals Google Bard) ist ein von Google entwickelter KI-basierter, multimodaler Chatbot. Er wurde als direkte Reaktion auf den Erfolg von OpenAIs ChatGPT entwickelt und im März 2023 in eingeschränkter Kapazität veröffentlicht, bevor er im Laufe des Sommers in weiteren Ländern verfügbar wurde. Der Chatbot war nach William Shakespeare benannt, der auch als „Bard of Avon“ (auf Deutsch: „Dichter von Avon“) bezeichnet wird. Google Gemini ist in 40 Sprachen verfügbar.\\n\\n', 'source': 'https://de.wikipedia.org/wiki/Google_Gemini'}),\n",
       " Document(page_content='Laufe des Sommers in weiteren Ländern verfügbar wurde. Der Chatbot war nach William Shakespeare benannt, der auch als „Bard of Avon“ (auf Deutsch: „Dichter von Avon“) bezeichnet wird. Google Gemini ist in 40 Sprachen verfügbar.', metadata={'title': 'Google Gemini', 'summary': 'Google Gemini (ehemals Google Bard) ist ein von Google entwickelter KI-basierter, multimodaler Chatbot. Er wurde als direkte Reaktion auf den Erfolg von OpenAIs ChatGPT entwickelt und im März 2023 in eingeschränkter Kapazität veröffentlicht, bevor er im Laufe des Sommers in weiteren Ländern verfügbar wurde. Der Chatbot war nach William Shakespeare benannt, der auch als „Bard of Avon“ (auf Deutsch: „Dichter von Avon“) bezeichnet wird. Google Gemini ist in 40 Sprachen verfügbar.\\n\\n', 'source': 'https://de.wikipedia.org/wiki/Google_Gemini'}),\n",
       " Document(page_content='== Funktionsweise ==', metadata={'title': 'Google Gemini', 'summary': 'Google Gemini (ehemals Google Bard) ist ein von Google entwickelter KI-basierter, multimodaler Chatbot. Er wurde als direkte Reaktion auf den Erfolg von OpenAIs ChatGPT entwickelt und im März 2023 in eingeschränkter Kapazität veröffentlicht, bevor er im Laufe des Sommers in weiteren Ländern verfügbar wurde. Der Chatbot war nach William Shakespeare benannt, der auch als „Bard of Avon“ (auf Deutsch: „Dichter von Avon“) bezeichnet wird. Google Gemini ist in 40 Sprachen verfügbar.\\n\\n', 'source': 'https://de.wikipedia.org/wiki/Google_Gemini'}),\n",
       " Document(page_content='Ähnlich wie OpenAIs Konkurrenzprodukt ChatGPT kann Google Gemini in einer gesprächsähnlichen Art eine Vielzahl von Fragen beantworten. Gemini erlaubt multimodales Arbeiten, das heißt, man kann sowohl diverse Medien wie Sprache oder Fotos eingeben als auch', metadata={'title': 'Google Gemini', 'summary': 'Google Gemini (ehemals Google Bard) ist ein von Google entwickelter KI-basierter, multimodaler Chatbot. Er wurde als direkte Reaktion auf den Erfolg von OpenAIs ChatGPT entwickelt und im März 2023 in eingeschränkter Kapazität veröffentlicht, bevor er im Laufe des Sommers in weiteren Ländern verfügbar wurde. Der Chatbot war nach William Shakespeare benannt, der auch als „Bard of Avon“ (auf Deutsch: „Dichter von Avon“) bezeichnet wird. Google Gemini ist in 40 Sprachen verfügbar.\\n\\n', 'source': 'https://de.wikipedia.org/wiki/Google_Gemini'}),\n",
       " Document(page_content='unterschiedliche Formate, wie Code oder Sprache, ausgegeben bekommen. Allerdings ist Gemini aktuell (Stand Februar 2024), anders als ChatGPT, nicht in der Lage, selbst Bilder zu erstellen – obwohl Google diese Funktion seit längerem in Aussicht gestellt', metadata={'title': 'Google Gemini', 'summary': 'Google Gemini (ehemals Google Bard) ist ein von Google entwickelter KI-basierter, multimodaler Chatbot. Er wurde als direkte Reaktion auf den Erfolg von OpenAIs ChatGPT entwickelt und im März 2023 in eingeschränkter Kapazität veröffentlicht, bevor er im Laufe des Sommers in weiteren Ländern verfügbar wurde. Der Chatbot war nach William Shakespeare benannt, der auch als „Bard of Avon“ (auf Deutsch: „Dichter von Avon“) bezeichnet wird. Google Gemini ist in 40 Sprachen verfügbar.\\n\\n', 'source': 'https://de.wikipedia.org/wiki/Google_Gemini'}),\n",
       " Document(page_content='hat.Der Chatbot wurde zunächst auf Basis des Large Language Models (LLM) LaMDA entwickelt, bevor er ab Mai 2023 auf das bessere Modell PaLM 2 und seit Dezember 2023 auf das neu entwickelte gleichnamige LLM Gemini zurückgreift. Die auf Gemini basierende', metadata={'title': 'Google Gemini', 'summary': 'Google Gemini (ehemals Google Bard) ist ein von Google entwickelter KI-basierter, multimodaler Chatbot. Er wurde als direkte Reaktion auf den Erfolg von OpenAIs ChatGPT entwickelt und im März 2023 in eingeschränkter Kapazität veröffentlicht, bevor er im Laufe des Sommers in weiteren Ländern verfügbar wurde. Der Chatbot war nach William Shakespeare benannt, der auch als „Bard of Avon“ (auf Deutsch: „Dichter von Avon“) bezeichnet wird. Google Gemini ist in 40 Sprachen verfügbar.\\n\\n', 'source': 'https://de.wikipedia.org/wiki/Google_Gemini'}),\n",
       " Document(page_content='Version ist aktuell in mehr als 230 Ländern und Regionen und in 40 Sprachen verfügbar.Anders als ChatGPT 4 ist die Nutzung von Google Gemini kostenlos, jedoch gibt es auch eine kostenpflichtige Version namens Gemini Advanced. Allerdings weist Google', metadata={'title': 'Google Gemini', 'summary': 'Google Gemini (ehemals Google Bard) ist ein von Google entwickelter KI-basierter, multimodaler Chatbot. Er wurde als direkte Reaktion auf den Erfolg von OpenAIs ChatGPT entwickelt und im März 2023 in eingeschränkter Kapazität veröffentlicht, bevor er im Laufe des Sommers in weiteren Ländern verfügbar wurde. Der Chatbot war nach William Shakespeare benannt, der auch als „Bard of Avon“ (auf Deutsch: „Dichter von Avon“) bezeichnet wird. Google Gemini ist in 40 Sprachen verfügbar.\\n\\n', 'source': 'https://de.wikipedia.org/wiki/Google_Gemini'}),\n",
       " Document(page_content='selbst darauf hin, dass das Tool noch Schwächen habe. Google bezeichnete Bard zu Beginn der Veröffentlichung selbst als Experiment, ehe es mit dem Rebranding als Gemini nun mehr kein Experiment ist.', metadata={'title': 'Google Gemini', 'summary': 'Google Gemini (ehemals Google Bard) ist ein von Google entwickelter KI-basierter, multimodaler Chatbot. Er wurde als direkte Reaktion auf den Erfolg von OpenAIs ChatGPT entwickelt und im März 2023 in eingeschränkter Kapazität veröffentlicht, bevor er im Laufe des Sommers in weiteren Ländern verfügbar wurde. Der Chatbot war nach William Shakespeare benannt, der auch als „Bard of Avon“ (auf Deutsch: „Dichter von Avon“) bezeichnet wird. Google Gemini ist in 40 Sprachen verfügbar.\\n\\n', 'source': 'https://de.wikipedia.org/wiki/Google_Gemini'}),\n",
       " Document(page_content='Der Chatbot von Google wird von Transformer, einem neuronalen Netzwerk-Modell, und Gemini Pro 1.0 sowie die kostenpflichtige Version von Gemini Ultra 1.0, Googles Sprachmodell, angetrieben. Google Research hat Transformer im Jahr 2017 entwickelt und', metadata={'title': 'Google Gemini', 'summary': 'Google Gemini (ehemals Google Bard) ist ein von Google entwickelter KI-basierter, multimodaler Chatbot. Er wurde als direkte Reaktion auf den Erfolg von OpenAIs ChatGPT entwickelt und im März 2023 in eingeschränkter Kapazität veröffentlicht, bevor er im Laufe des Sommers in weiteren Ländern verfügbar wurde. Der Chatbot war nach William Shakespeare benannt, der auch als „Bard of Avon“ (auf Deutsch: „Dichter von Avon“) bezeichnet wird. Google Gemini ist in 40 Sprachen verfügbar.\\n\\n', 'source': 'https://de.wikipedia.org/wiki/Google_Gemini'}),\n",
       " Document(page_content='veröffentlicht.', metadata={'title': 'Google Gemini', 'summary': 'Google Gemini (ehemals Google Bard) ist ein von Google entwickelter KI-basierter, multimodaler Chatbot. Er wurde als direkte Reaktion auf den Erfolg von OpenAIs ChatGPT entwickelt und im März 2023 in eingeschränkter Kapazität veröffentlicht, bevor er im Laufe des Sommers in weiteren Ländern verfügbar wurde. Der Chatbot war nach William Shakespeare benannt, der auch als „Bard of Avon“ (auf Deutsch: „Dichter von Avon“) bezeichnet wird. Google Gemini ist in 40 Sprachen verfügbar.\\n\\n', 'source': 'https://de.wikipedia.org/wiki/Google_Gemini'}),\n",
       " Document(page_content='== Geschichte ==', metadata={'title': 'Google Gemini', 'summary': 'Google Gemini (ehemals Google Bard) ist ein von Google entwickelter KI-basierter, multimodaler Chatbot. Er wurde als direkte Reaktion auf den Erfolg von OpenAIs ChatGPT entwickelt und im März 2023 in eingeschränkter Kapazität veröffentlicht, bevor er im Laufe des Sommers in weiteren Ländern verfügbar wurde. Der Chatbot war nach William Shakespeare benannt, der auch als „Bard of Avon“ (auf Deutsch: „Dichter von Avon“) bezeichnet wird. Google Gemini ist in 40 Sprachen verfügbar.\\n\\n', 'source': 'https://de.wikipedia.org/wiki/Google_Gemini'}),\n",
       " Document(page_content='Auf einer Konferenz bezeichneten Google-Manager Anfang 2023 ChatGPT als „Code Red“, da die AI-basierte Plattform eine positive Resonanz von Nutzern auf der ganzen Welt erhalten hätte. In einem Blog-Beitrag gab Google bekannt, dass es Bard', metadata={'title': 'Google Gemini', 'summary': 'Google Gemini (ehemals Google Bard) ist ein von Google entwickelter KI-basierter, multimodaler Chatbot. Er wurde als direkte Reaktion auf den Erfolg von OpenAIs ChatGPT entwickelt und im März 2023 in eingeschränkter Kapazität veröffentlicht, bevor er im Laufe des Sommers in weiteren Ländern verfügbar wurde. Der Chatbot war nach William Shakespeare benannt, der auch als „Bard of Avon“ (auf Deutsch: „Dichter von Avon“) bezeichnet wird. Google Gemini ist in 40 Sprachen verfügbar.\\n\\n', 'source': 'https://de.wikipedia.org/wiki/Google_Gemini'}),\n",
       " Document(page_content='„vertrauenswürdigen Testern“ zur Verfügung stellen wird, bevor es in den kommenden Wochen für die Öffentlichkeit zugänglich gemacht wird.', metadata={'title': 'Google Gemini', 'summary': 'Google Gemini (ehemals Google Bard) ist ein von Google entwickelter KI-basierter, multimodaler Chatbot. Er wurde als direkte Reaktion auf den Erfolg von OpenAIs ChatGPT entwickelt und im März 2023 in eingeschränkter Kapazität veröffentlicht, bevor er im Laufe des Sommers in weiteren Ländern verfügbar wurde. Der Chatbot war nach William Shakespeare benannt, der auch als „Bard of Avon“ (auf Deutsch: „Dichter von Avon“) bezeichnet wird. Google Gemini ist in 40 Sprachen verfügbar.\\n\\n', 'source': 'https://de.wikipedia.org/wiki/Google_Gemini'}),\n",
       " Document(page_content='Der Start von Bard verlief sehr holprig: Die Aktien des Unternehmens Alphabet fielen am 8. Februar 2023 an der Wall Street um 7,6 Prozent, was einem Rückgang an Marktkapitalisierung um mehr als 100 Milliarden US-Dollar entsprach. Dies war der größte', metadata={'title': 'Google Gemini', 'summary': 'Google Gemini (ehemals Google Bard) ist ein von Google entwickelter KI-basierter, multimodaler Chatbot. Er wurde als direkte Reaktion auf den Erfolg von OpenAIs ChatGPT entwickelt und im März 2023 in eingeschränkter Kapazität veröffentlicht, bevor er im Laufe des Sommers in weiteren Ländern verfügbar wurde. Der Chatbot war nach William Shakespeare benannt, der auch als „Bard of Avon“ (auf Deutsch: „Dichter von Avon“) bezeichnet wird. Google Gemini ist in 40 Sprachen verfügbar.\\n\\n', 'source': 'https://de.wikipedia.org/wiki/Google_Gemini'}),\n",
       " Document(page_content='Rückgang seit dem 26. Oktober 2022. Ursache war eine von Google veröffentlichte Demonstration auf Twitter, bei der Bard eine falsche Antwort bezüglich einer Entdeckung des James Webb Space Telescopes gab.', metadata={'title': 'Google Gemini', 'summary': 'Google Gemini (ehemals Google Bard) ist ein von Google entwickelter KI-basierter, multimodaler Chatbot. Er wurde als direkte Reaktion auf den Erfolg von OpenAIs ChatGPT entwickelt und im März 2023 in eingeschränkter Kapazität veröffentlicht, bevor er im Laufe des Sommers in weiteren Ländern verfügbar wurde. Der Chatbot war nach William Shakespeare benannt, der auch als „Bard of Avon“ (auf Deutsch: „Dichter von Avon“) bezeichnet wird. Google Gemini ist in 40 Sprachen verfügbar.\\n\\n', 'source': 'https://de.wikipedia.org/wiki/Google_Gemini'}),\n",
       " Document(page_content='Nach anfänglich beschränktem Zugang für wenige Tester veröffentlichte Google am 21. März 2023 eine Version von Bard, welche allerdings nur in den USA und dem Vereinigten Königreich, nach dem Beitreten einer Warteliste, verfügbar war.', metadata={'title': 'Google Gemini', 'summary': 'Google Gemini (ehemals Google Bard) ist ein von Google entwickelter KI-basierter, multimodaler Chatbot. Er wurde als direkte Reaktion auf den Erfolg von OpenAIs ChatGPT entwickelt und im März 2023 in eingeschränkter Kapazität veröffentlicht, bevor er im Laufe des Sommers in weiteren Ländern verfügbar wurde. Der Chatbot war nach William Shakespeare benannt, der auch als „Bard of Avon“ (auf Deutsch: „Dichter von Avon“) bezeichnet wird. Google Gemini ist in 40 Sprachen verfügbar.\\n\\n', 'source': 'https://de.wikipedia.org/wiki/Google_Gemini'}),\n",
       " Document(page_content='Am 10. Mai 2023 wurde auf der Google I/O ‘23 verkündet, dass Google Bard von nun an in über 180 Ländern verfügbar ist. Die voranschreitende Einführung umfasste keine Länder in der Europäischen Union, was an Bedenken der irischen Datenschutzkommission DPC', metadata={'title': 'Google Gemini', 'summary': 'Google Gemini (ehemals Google Bard) ist ein von Google entwickelter KI-basierter, multimodaler Chatbot. Er wurde als direkte Reaktion auf den Erfolg von OpenAIs ChatGPT entwickelt und im März 2023 in eingeschränkter Kapazität veröffentlicht, bevor er im Laufe des Sommers in weiteren Ländern verfügbar wurde. Der Chatbot war nach William Shakespeare benannt, der auch als „Bard of Avon“ (auf Deutsch: „Dichter von Avon“) bezeichnet wird. Google Gemini ist in 40 Sprachen verfügbar.\\n\\n', 'source': 'https://de.wikipedia.org/wiki/Google_Gemini'}),\n",
       " Document(page_content='lag, ob Bard die Datenschutz-Grundverordnung einhalte. Am 13. Juli 2023 wurde Google Bard dann in ganz Europa verfügbar gemacht.', metadata={'title': 'Google Gemini', 'summary': 'Google Gemini (ehemals Google Bard) ist ein von Google entwickelter KI-basierter, multimodaler Chatbot. Er wurde als direkte Reaktion auf den Erfolg von OpenAIs ChatGPT entwickelt und im März 2023 in eingeschränkter Kapazität veröffentlicht, bevor er im Laufe des Sommers in weiteren Ländern verfügbar wurde. Der Chatbot war nach William Shakespeare benannt, der auch als „Bard of Avon“ (auf Deutsch: „Dichter von Avon“) bezeichnet wird. Google Gemini ist in 40 Sprachen verfügbar.\\n\\n', 'source': 'https://de.wikipedia.org/wiki/Google_Gemini'}),\n",
       " Document(page_content='Im Dezember 2023, bei der Vorstellung seines neuen Sprachmodells Gemini, gab Google bekannt, dass dieses fortan in der Version Gemini Pro auch in Bard zum Einsatz komme. Für 2024 war eine neue, bessere Version für Bard namens „Gemini Advanced“ geplant,', metadata={'title': 'Google Gemini', 'summary': 'Google Gemini (ehemals Google Bard) ist ein von Google entwickelter KI-basierter, multimodaler Chatbot. Er wurde als direkte Reaktion auf den Erfolg von OpenAIs ChatGPT entwickelt und im März 2023 in eingeschränkter Kapazität veröffentlicht, bevor er im Laufe des Sommers in weiteren Ländern verfügbar wurde. Der Chatbot war nach William Shakespeare benannt, der auch als „Bard of Avon“ (auf Deutsch: „Dichter von Avon“) bezeichnet wird. Google Gemini ist in 40 Sprachen verfügbar.\\n\\n', 'source': 'https://de.wikipedia.org/wiki/Google_Gemini'}),\n",
       " Document(page_content='die auf das bessere Gemini Ultra-Modell zugreifen solle. Diese Änderung fand am 8. Februar 2024 statt. Bard wurde offiziell in Gemini umbenannt.Gleichzeitig mit dem Release von Gemini, ist der Chatbot nun als App für Android und iOS, zunächst nur in den', metadata={'title': 'Google Gemini', 'summary': 'Google Gemini (ehemals Google Bard) ist ein von Google entwickelter KI-basierter, multimodaler Chatbot. Er wurde als direkte Reaktion auf den Erfolg von OpenAIs ChatGPT entwickelt und im März 2023 in eingeschränkter Kapazität veröffentlicht, bevor er im Laufe des Sommers in weiteren Ländern verfügbar wurde. Der Chatbot war nach William Shakespeare benannt, der auch als „Bard of Avon“ (auf Deutsch: „Dichter von Avon“) bezeichnet wird. Google Gemini ist in 40 Sprachen verfügbar.\\n\\n', 'source': 'https://de.wikipedia.org/wiki/Google_Gemini'}),\n",
       " Document(page_content='USA, verfügbar.', metadata={'title': 'Google Gemini', 'summary': 'Google Gemini (ehemals Google Bard) ist ein von Google entwickelter KI-basierter, multimodaler Chatbot. Er wurde als direkte Reaktion auf den Erfolg von OpenAIs ChatGPT entwickelt und im März 2023 in eingeschränkter Kapazität veröffentlicht, bevor er im Laufe des Sommers in weiteren Ländern verfügbar wurde. Der Chatbot war nach William Shakespeare benannt, der auch als „Bard of Avon“ (auf Deutsch: „Dichter von Avon“) bezeichnet wird. Google Gemini ist in 40 Sprachen verfügbar.\\n\\n', 'source': 'https://de.wikipedia.org/wiki/Google_Gemini'}),\n",
       " Document(page_content='== Sonstiges ==\\nLaMDA s', metadata={'title': 'Google Gemini', 'summary': 'Google Gemini (ehemals Google Bard) ist ein von Google entwickelter KI-basierter, multimodaler Chatbot. Er wurde als direkte Reaktion auf den Erfolg von OpenAIs ChatGPT entwickelt und im März 2023 in eingeschränkter Kapazität veröffentlicht, bevor er im Laufe des Sommers in weiteren Ländern verfügbar wurde. Der Chatbot war nach William Shakespeare benannt, der auch als „Bard of Avon“ (auf Deutsch: „Dichter von Avon“) bezeichnet wird. Google Gemini ist in 40 Sprachen verfügbar.\\n\\n', 'source': 'https://de.wikipedia.org/wiki/Google_Gemini'}),\n",
       " Document(page_content='Gemini ist eine Serie multimodaler Sprachmodelle der Firma Google. Sie zählt zum Bereich Generativer Künstlicher Intelligenz (GenAI). Entwickelt wurde es von Googles Tochterunternehmen DeepMind und baut auf den zuvor bereits von Google herausgebrachten', metadata={'title': 'Gemini (Sprachmodell)', 'summary': 'Gemini ist eine Serie multimodaler Sprachmodelle der Firma Google. Sie zählt zum Bereich Generativer Künstlicher Intelligenz (GenAI). Entwickelt wurde es von Googles Tochterunternehmen DeepMind und baut auf den zuvor bereits von Google herausgebrachten Sprachmodellen LaMDA und PaLM 2 auf. Gemini wurde am 6. Dezember 2023 angekündigt und wird von vielen Marktbeobachtern als Konkurrent zu OpenAIs GPT-4 gesehen.\\n\\n', 'source': 'https://de.wikipedia.org/wiki/Gemini_(Sprachmodell)'}),\n",
       " Document(page_content='Sprachmodellen LaMDA und PaLM 2 auf. Gemini wurde am 6. Dezember 2023 angekündigt und wird von vielen Marktbeobachtern als Konkurrent zu OpenAIs GPT-4 gesehen.', metadata={'title': 'Gemini (Sprachmodell)', 'summary': 'Gemini ist eine Serie multimodaler Sprachmodelle der Firma Google. Sie zählt zum Bereich Generativer Künstlicher Intelligenz (GenAI). Entwickelt wurde es von Googles Tochterunternehmen DeepMind und baut auf den zuvor bereits von Google herausgebrachten Sprachmodellen LaMDA und PaLM 2 auf. Gemini wurde am 6. Dezember 2023 angekündigt und wird von vielen Marktbeobachtern als Konkurrent zu OpenAIs GPT-4 gesehen.\\n\\n', 'source': 'https://de.wikipedia.org/wiki/Gemini_(Sprachmodell)'}),\n",
       " Document(page_content='== Funktionsweise und Einsatz ==', metadata={'title': 'Gemini (Sprachmodell)', 'summary': 'Gemini ist eine Serie multimodaler Sprachmodelle der Firma Google. Sie zählt zum Bereich Generativer Künstlicher Intelligenz (GenAI). Entwickelt wurde es von Googles Tochterunternehmen DeepMind und baut auf den zuvor bereits von Google herausgebrachten Sprachmodellen LaMDA und PaLM 2 auf. Gemini wurde am 6. Dezember 2023 angekündigt und wird von vielen Marktbeobachtern als Konkurrent zu OpenAIs GPT-4 gesehen.\\n\\n', 'source': 'https://de.wikipedia.org/wiki/Gemini_(Sprachmodell)'}),\n",
       " Document(page_content='Das Modell ist multimodal, das heißt, es kann verschiedene Arten von Eingaben, darunter geschriebenen Text, Bilder, Video, Audio und Computer-Code, verarbeiten – auch in der Kombination unterschiedlicher Informationen. Gemini 1.0 wurde in drei', metadata={'title': 'Gemini (Sprachmodell)', 'summary': 'Gemini ist eine Serie multimodaler Sprachmodelle der Firma Google. Sie zählt zum Bereich Generativer Künstlicher Intelligenz (GenAI). Entwickelt wurde es von Googles Tochterunternehmen DeepMind und baut auf den zuvor bereits von Google herausgebrachten Sprachmodellen LaMDA und PaLM 2 auf. Gemini wurde am 6. Dezember 2023 angekündigt und wird von vielen Marktbeobachtern als Konkurrent zu OpenAIs GPT-4 gesehen.\\n\\n', 'source': 'https://de.wikipedia.org/wiki/Gemini_(Sprachmodell)'}),\n",
       " Document(page_content='verschiedenen Varianten angekündigt: Gemini Pro als Basisversion, Gemini Nano, das speziell auf Mobilgeräte zugeschnitten sein soll, und das leistungsfähigste Modell, Gemini Ultra.Gemini Pro kommt seit Dezember 2023 im gleichnamigen Google-KI-Chatbot zum', metadata={'title': 'Gemini (Sprachmodell)', 'summary': 'Gemini ist eine Serie multimodaler Sprachmodelle der Firma Google. Sie zählt zum Bereich Generativer Künstlicher Intelligenz (GenAI). Entwickelt wurde es von Googles Tochterunternehmen DeepMind und baut auf den zuvor bereits von Google herausgebrachten Sprachmodellen LaMDA und PaLM 2 auf. Gemini wurde am 6. Dezember 2023 angekündigt und wird von vielen Marktbeobachtern als Konkurrent zu OpenAIs GPT-4 gesehen.\\n\\n', 'source': 'https://de.wikipedia.org/wiki/Gemini_(Sprachmodell)'}),\n",
       " Document(page_content='Einsatz. Gemini Nano wurde im hauseigenen Handy, dem Google Pixel 8 Pro integriert. Gemini Ultra startete am 8. Februar 2024 in einer kostenpflichtigen Version unter dem Namen Gemini Advanced. Es soll GPT-4 in einigen Bereichen überlegen sein. Google', metadata={'title': 'Gemini (Sprachmodell)', 'summary': 'Gemini ist eine Serie multimodaler Sprachmodelle der Firma Google. Sie zählt zum Bereich Generativer Künstlicher Intelligenz (GenAI). Entwickelt wurde es von Googles Tochterunternehmen DeepMind und baut auf den zuvor bereits von Google herausgebrachten Sprachmodellen LaMDA und PaLM 2 auf. Gemini wurde am 6. Dezember 2023 angekündigt und wird von vielen Marktbeobachtern als Konkurrent zu OpenAIs GPT-4 gesehen.\\n\\n', 'source': 'https://de.wikipedia.org/wiki/Gemini_(Sprachmodell)'}),\n",
       " Document(page_content='nennt hier im eigenen Blog vor allem Coding und Textverarbeitung. In ersten Berichten von Medien und Blogs nach der Ankündigung wurde diese Überlegenheit allerdings infrage gestellt.Weitere Google-Dienste, wie der Webbrowser Chrome oder Gmail, werden laut', metadata={'title': 'Gemini (Sprachmodell)', 'summary': 'Gemini ist eine Serie multimodaler Sprachmodelle der Firma Google. Sie zählt zum Bereich Generativer Künstlicher Intelligenz (GenAI). Entwickelt wurde es von Googles Tochterunternehmen DeepMind und baut auf den zuvor bereits von Google herausgebrachten Sprachmodellen LaMDA und PaLM 2 auf. Gemini wurde am 6. Dezember 2023 angekündigt und wird von vielen Marktbeobachtern als Konkurrent zu OpenAIs GPT-4 gesehen.\\n\\n', 'source': 'https://de.wikipedia.org/wiki/Gemini_(Sprachmodell)'}),\n",
       " Document(page_content='Google ebenfalls um die KI-Fähigkeiten von Gemini ergänzt. Entwickler haben bereits im Dezember 2023 Zugang zu Gemini Pro über eine Gemini API erhalten, um das Sprachmodell in eigene Anwendungen integrieren zu können. Über Schnittstellen könnten, so die', metadata={'title': 'Gemini (Sprachmodell)', 'summary': 'Gemini ist eine Serie multimodaler Sprachmodelle der Firma Google. Sie zählt zum Bereich Generativer Künstlicher Intelligenz (GenAI). Entwickelt wurde es von Googles Tochterunternehmen DeepMind und baut auf den zuvor bereits von Google herausgebrachten Sprachmodellen LaMDA und PaLM 2 auf. Gemini wurde am 6. Dezember 2023 angekündigt und wird von vielen Marktbeobachtern als Konkurrent zu OpenAIs GPT-4 gesehen.\\n\\n', 'source': 'https://de.wikipedia.org/wiki/Gemini_(Sprachmodell)'}),\n",
       " Document(page_content='Einschätzung in Medien und Blogs, künftig auch viele andere Anwendungen auf Basis von Gemini um KI-Fähigkeiten ergänzt werden – von wissenschaftlicher oder medizinischer Software bis zum Smartphone-Betriebssystem Android.', metadata={'title': 'Gemini (Sprachmodell)', 'summary': 'Gemini ist eine Serie multimodaler Sprachmodelle der Firma Google. Sie zählt zum Bereich Generativer Künstlicher Intelligenz (GenAI). Entwickelt wurde es von Googles Tochterunternehmen DeepMind und baut auf den zuvor bereits von Google herausgebrachten Sprachmodellen LaMDA und PaLM 2 auf. Gemini wurde am 6. Dezember 2023 angekündigt und wird von vielen Marktbeobachtern als Konkurrent zu OpenAIs GPT-4 gesehen.\\n\\n', 'source': 'https://de.wikipedia.org/wiki/Gemini_(Sprachmodell)'}),\n",
       " Document(page_content='== Kritik ==\\nNach der Vorstellung von Gemini im Dezember 2023 wurde Kritik an Google geäußert, weil Demovideos offenbar deutlich bearbeitet wurden, um Gemini leistungsfähiger erscheinen zu lassen.', metadata={'title': 'Gemini (Sprachmodell)', 'summary': 'Gemini ist eine Serie multimodaler Sprachmodelle der Firma Google. Sie zählt zum Bereich Generativer Künstlicher Intelligenz (GenAI). Entwickelt wurde es von Googles Tochterunternehmen DeepMind und baut auf den zuvor bereits von Google herausgebrachten Sprachmodellen LaMDA und PaLM 2 auf. Gemini wurde am 6. Dezember 2023 angekündigt und wird von vielen Marktbeobachtern als Konkurrent zu OpenAIs GPT-4 gesehen.\\n\\n', 'source': 'https://de.wikipedia.org/wiki/Gemini_(Sprachmodell)'}),\n",
       " Document(page_content='== Trivia ==', metadata={'title': 'Gemini (Sprachmodell)', 'summary': 'Gemini ist eine Serie multimodaler Sprachmodelle der Firma Google. Sie zählt zum Bereich Generativer Künstlicher Intelligenz (GenAI). Entwickelt wurde es von Googles Tochterunternehmen DeepMind und baut auf den zuvor bereits von Google herausgebrachten Sprachmodellen LaMDA und PaLM 2 auf. Gemini wurde am 6. Dezember 2023 angekündigt und wird von vielen Marktbeobachtern als Konkurrent zu OpenAIs GPT-4 gesehen.\\n\\n', 'source': 'https://de.wikipedia.org/wiki/Gemini_(Sprachmodell)'}),\n",
       " Document(page_content='Der Name „Gemini“ steht für die Partnerschaft der beiden großen KI-Labore von Google, Google DeepMind und Google Brain, und ist zudem eine Anspielung auf das NASA-Projekt Gemini, das in den 60er-Jahren den Weg ebnete für die Mondlandungen des späteren', metadata={'title': 'Gemini (Sprachmodell)', 'summary': 'Gemini ist eine Serie multimodaler Sprachmodelle der Firma Google. Sie zählt zum Bereich Generativer Künstlicher Intelligenz (GenAI). Entwickelt wurde es von Googles Tochterunternehmen DeepMind und baut auf den zuvor bereits von Google herausgebrachten Sprachmodellen LaMDA und PaLM 2 auf. Gemini wurde am 6. Dezember 2023 angekündigt und wird von vielen Marktbeobachtern als Konkurrent zu OpenAIs GPT-4 gesehen.\\n\\n', 'source': 'https://de.wikipedia.org/wiki/Gemini_(Sprachmodell)'}),\n",
       " Document(page_content='Apollo-Programms.', metadata={'title': 'Gemini (Sprachmodell)', 'summary': 'Gemini ist eine Serie multimodaler Sprachmodelle der Firma Google. Sie zählt zum Bereich Generativer Künstlicher Intelligenz (GenAI). Entwickelt wurde es von Googles Tochterunternehmen DeepMind und baut auf den zuvor bereits von Google herausgebrachten Sprachmodellen LaMDA und PaLM 2 auf. Gemini wurde am 6. Dezember 2023 angekündigt und wird von vielen Marktbeobachtern als Konkurrent zu OpenAIs GPT-4 gesehen.\\n\\n', 'source': 'https://de.wikipedia.org/wiki/Gemini_(Sprachmodell)'}),\n",
       " Document(page_content='== Weblinks ==\\nOffizielle WebsiteGemini: A Family of Highly Capable Multimodal Models White Paper (PDF, 62 Seiten, englisch)\\n\\n\\n== Einzelnachweise ==', metadata={'title': 'Gemini (Sprachmodell)', 'summary': 'Gemini ist eine Serie multimodaler Sprachmodelle der Firma Google. Sie zählt zum Bereich Generativer Künstlicher Intelligenz (GenAI). Entwickelt wurde es von Googles Tochterunternehmen DeepMind und baut auf den zuvor bereits von Google herausgebrachten Sprachmodellen LaMDA und PaLM 2 auf. Gemini wurde am 6. Dezember 2023 angekündigt und wird von vielen Marktbeobachtern als Konkurrent zu OpenAIs GPT-4 gesehen.\\n\\n', 'source': 'https://de.wikipedia.org/wiki/Gemini_(Sprachmodell)'})]"
      ]
     },
     "execution_count": 114,
     "metadata": {},
     "output_type": "execute_result"
    }
   ],
   "source": [
    "chunks"
   ]
  },
  {
   "cell_type": "code",
   "execution_count": 125,
   "id": "3c78208c-bf11-447d-beb6-6145671632c1",
   "metadata": {},
   "outputs": [
    {
     "name": "stdout",
     "output_type": "stream",
     "text": [
      "Creating index askadocument and embeddings ...Ok\n"
     ]
    }
   ],
   "source": [
    "index_name = 'gemini'\n",
    "vector_store = insert_or_fetch_embeddings(index_name=index_name, chunks=chunks)"
   ]
  },
  {
   "cell_type": "code",
   "execution_count": 126,
   "id": "53bd29c9",
   "metadata": {},
   "outputs": [
    {
     "name": "stdout",
     "output_type": "stream",
     "text": [
      "{'query': 'Was ist Google Gemini?', 'result': 'Google Gemini ist ein KI-basierter Chatbot, der von Google entwickelt wurde. Es handelt sich um eine Serie von multimodalen Sprachmodellen, die auf generativer künstlicher Intelligenz (GenAI) basieren. Gemini wurde entwickelt, um auf den Erfolg von OpenAIs ChatGPT zu reagieren und wurde im März 2023 in begrenzter Kapazität veröffentlicht. Der Name \"Gemini\" symbolisiert die Partnerschaft der KI-Labore von Google, Google DeepMind und Google Brain, und bezieht sich auch auf das NASA-Projekt Gemini, das in den 60er-Jahren die Grundlage für spätere Mondlandungen legte.'}\n"
     ]
    }
   ],
   "source": [
    "q = 'Was ist Google Gemini?'\n",
    "answer = ask_and_get_answer(vector_store, q)\n",
    "print(answer)"
   ]
  },
  {
   "cell_type": "markdown",
   "id": "c2830693-5927-453a-a073-63dd7d8f6827",
   "metadata": {},
   "source": [
    "#### Asking with Memory"
   ]
  },
  {
   "cell_type": "code",
   "execution_count": 133,
   "id": "4d5edea8",
   "metadata": {},
   "outputs": [
    {
     "name": "stdout",
     "output_type": "stream",
     "text": [
      "There are currently 27 amendments in the U.S. Constitution.\n",
      "[('How many amendments are in the U.S. Constitution?', 'There are currently 27 amendments in the U.S. Constitution.')]\n"
     ]
    }
   ],
   "source": [
    "# asking with memory\n",
    "chat_history = []\n",
    "question = 'How many amendments are in the U.S. Constitution?'\n",
    "result, chat_history = ask_with_memory(vector_store, question, chat_history)\n",
    "print(result['answer'])\n",
    "print(chat_history)"
   ]
  },
  {
   "cell_type": "code",
   "execution_count": 134,
   "id": "b8aab7be",
   "metadata": {},
   "outputs": [
    {
     "name": "stdout",
     "output_type": "stream",
     "text": [
      "There are currently 27 amendments in the U.S. Constitution. Multiplying this number by 2 would give you a result of 54.\n",
      "[('How many amendments are in the U.S. Constitution?', 'There are currently 27 amendments in the U.S. Constitution.'), ('Multiply that number by 2', 'There are currently 27 amendments in the U.S. Constitution. Multiplying this number by 2 would give you a result of 54.')]\n"
     ]
    }
   ],
   "source": [
    "question = 'Multiply that number by 2'\n",
    "result, chat_history = ask_with_memory(vector_store, question, chat_history)\n",
    "print(result['answer'])\n",
    "print(chat_history)\n"
   ]
  },
  {
   "cell_type": "markdown",
   "id": "5c5d08d3",
   "metadata": {},
   "source": [
    "### Ask with Memory Loop"
   ]
  },
  {
   "cell_type": "code",
   "execution_count": 136,
   "id": "19e81a4d",
   "metadata": {},
   "outputs": [
    {
     "name": "stdout",
     "output_type": "stream",
     "text": [
      "Write Quit or Exit to quit\n"
     ]
    },
    {
     "name": "stdin",
     "output_type": "stream",
     "text": [
      "Question #1 quit\n"
     ]
    },
    {
     "name": "stdout",
     "output_type": "stream",
     "text": [
      "Qutting\n"
     ]
    }
   ],
   "source": [
    "import time\n",
    "i = 1\n",
    "\n",
    "chat_history = []\n",
    "\n",
    "print(\"Write Quit or Exit to quit\")\n",
    "while True:\n",
    "    q = input(f\"Question #{i}\")\n",
    "    i = i + 1\n",
    "    if q.lower() in [\"quit\",\"exit\"]:\n",
    "        print(\"Qutting\")\n",
    "        time.sleep(2)\n",
    "        break\n",
    "    result, _ = ask_with_memory(vector_store, q, chat_history)\n",
    "    print (result['answer'])\n",
    "    print(\"----------------------------------------------------------------------\")"
   ]
  },
  {
   "cell_type": "code",
   "execution_count": null,
   "id": "41788a30-6aed-4af5-a719-fa8f137ca1a5",
   "metadata": {},
   "outputs": [],
   "source": []
  }
 ],
 "metadata": {
  "kernelspec": {
   "display_name": "Python 3 (ipykernel)",
   "language": "python",
   "name": "python3"
  },
  "language_info": {
   "codemirror_mode": {
    "name": "ipython",
    "version": 3
   },
   "file_extension": ".py",
   "mimetype": "text/x-python",
   "name": "python",
   "nbconvert_exporter": "python",
   "pygments_lexer": "ipython3",
   "version": "3.12.1"
  },
  "widgets": {
   "application/vnd.jupyter.widget-state+json": {
    "state": {},
    "version_major": 2,
    "version_minor": 0
   }
  }
 },
 "nbformat": 4,
 "nbformat_minor": 5
}
